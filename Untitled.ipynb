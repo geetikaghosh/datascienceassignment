{
 "cells": [
  {
   "cell_type": "code",
   "execution_count": null,
   "id": "9fefccf6-5a56-4f8f-beca-e65f8f247775",
   "metadata": {},
   "outputs": [],
   "source": [
    "#ASSIGNMENT 18th and 19th FEB\n",
    "\n",
    "##what is api?real example?\n",
    "#application program interface is a set of codes that queries data, reads responses and send instruction between one software to another. example: shopping website captures the response of our purchase and places the order with the help of server.\n",
    "\n",
    "##Pros and Cons of API?\n",
    "#cons: creation is time consuming, maintenance cost is high, limited transfer protocol support and needs skilled labour. Pros: effiency is high, adaptable in nature, flexible to the environment.\n",
    "\n",
    "##what is web API? difference between API and WEB API?\n",
    "#web application programming interface is a set of codes that allows browser to communicate with the web server. The web api is used for REST and SOAP architechture to communicate whereas api can use any style to communicaate with one s/w to another.\n",
    "\n",
    "##REST vs SOAP?\n",
    "#rest is protocol that offers flexible implementatation whereas soap has a specific requirement like XML messaging.\n",
    "#soap can only transfer xml files. this required more bandwidth which is why takes more time to process the request and transfer the response back to the client.\n",
    "\n",
    "##SOAP and REST?\n",
    "#SOAP is a protocol to exchange info, messages are encoded as xml documents and can be exchanged using various underlying protocols.\n",
    "#REST is an architectural style for building distributed system, it is also not dependant on any underlying protocol.\n",
    "\n",
    "##Flask framework? pros?\n",
    "#Flask is a web framework gives tools, libraries and technologies to build web application.\n",
    "#pros: flexible, lightweight, easy to negotiate and scalable.\n",
    "\n",
    "##create \"hello world\"?\n",
    "#\n",
    "\n",
    "##app routing? uses?\n",
    "#app routing is mapping the url to specific function that will handle the logic for that url. It is used to map the specific url with the associated function that performs some task.\n",
    "\n",
    "##function used for url building? write a python code to show url_for()?\n",
    "# url_for\n",
    "#from flask import url_for\n",
    "#@app.route('/login')\n",
    "#def index():return 'login'\n",
    "#with "
   ]
  }
 ],
 "metadata": {
  "kernelspec": {
   "display_name": "Python 3 (ipykernel)",
   "language": "python",
   "name": "python3"
  },
  "language_info": {
   "codemirror_mode": {
    "name": "ipython",
    "version": 3
   },
   "file_extension": ".py",
   "mimetype": "text/x-python",
   "name": "python",
   "nbconvert_exporter": "python",
   "pygments_lexer": "ipython3",
   "version": "3.10.8"
  }
 },
 "nbformat": 4,
 "nbformat_minor": 5
}
